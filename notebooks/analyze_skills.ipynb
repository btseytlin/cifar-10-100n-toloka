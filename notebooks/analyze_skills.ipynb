{
 "cells": [
  {
   "cell_type": "code",
   "execution_count": 1,
   "id": "4b667e63-a11c-4ac5-8b84-c892ae444b21",
   "metadata": {},
   "outputs": [],
   "source": [
    "import pickle\n",
    "import pandas as pd\n",
    "from plotly import express as px\n"
   ]
  },
  {
   "cell_type": "code",
   "execution_count": 2,
   "id": "f4130acd-6d38-49cf-8449-7cba439f2dba",
   "metadata": {},
   "outputs": [
    {
     "ename": "FileNotFoundError",
     "evalue": "[Errno 2] No such file or directory: 'datamodule.pkl'",
     "output_type": "error",
     "traceback": [
      "\u001B[0;31m---------------------------------------------------------------------------\u001B[0m",
      "\u001B[0;31mFileNotFoundError\u001B[0m                         Traceback (most recent call last)",
      "\u001B[0;32m/var/folders/bt/g8bj53xj0tvbvs3wn8hkx2c5g9x1f4/T/ipykernel_7401/1510895960.py\u001B[0m in \u001B[0;36m<cell line: 1>\u001B[0;34m()\u001B[0m\n\u001B[0;32m----> 1\u001B[0;31m \u001B[0mdm\u001B[0m \u001B[0;34m=\u001B[0m \u001B[0mpickle\u001B[0m\u001B[0;34m.\u001B[0m\u001B[0mload\u001B[0m\u001B[0;34m(\u001B[0m\u001B[0mopen\u001B[0m\u001B[0;34m(\u001B[0m\u001B[0;34m'datamodule.pkl'\u001B[0m\u001B[0;34m,\u001B[0m \u001B[0;34m'rb'\u001B[0m\u001B[0;34m)\u001B[0m\u001B[0;34m)\u001B[0m\u001B[0;34m\u001B[0m\u001B[0;34m\u001B[0m\u001B[0m\n\u001B[0m\u001B[1;32m      2\u001B[0m \u001B[0;34m\u001B[0m\u001B[0m\n",
      "\u001B[0;31mFileNotFoundError\u001B[0m: [Errno 2] No such file or directory: 'datamodule.pkl'"
     ]
    }
   ],
   "source": [
    "dm = pickle.load(open('datamodule.pkl', 'rb'))"
   ]
  },
  {
   "cell_type": "code",
   "execution_count": null,
   "id": "a6fecf63-95ea-4d4f-beed-d4ae5bd13423",
   "metadata": {},
   "outputs": [],
   "source": [
    "skills_history = pickle.load(open('worker_skills_history.pkl', 'rb'))"
   ]
  },
  {
   "cell_type": "code",
   "execution_count": null,
   "id": "fa2f894d-fb77-4ef0-9602-ef33302897e7",
   "metadata": {},
   "outputs": [],
   "source": [
    "len(skills_history)"
   ]
  },
  {
   "cell_type": "code",
   "execution_count": null,
   "id": "1849ddac-003a-4cb5-afb5-7595ed38fa83",
   "metadata": {},
   "outputs": [],
   "source": [
    "skills_history[0]"
   ]
  },
  {
   "cell_type": "code",
   "execution_count": null,
   "id": "40ae8c64-5e90-49ea-b871-173214a0e5d8",
   "metadata": {},
   "outputs": [],
   "source": [
    "skills_history[-1].sort_index()"
   ]
  },
  {
   "cell_type": "code",
   "execution_count": null,
   "id": "e0a46270-f7fc-49a2-939d-66eb63545600",
   "metadata": {},
   "outputs": [],
   "source": [
    "labels_df = pd.read_csv('data/labels.csv')\n",
    "true_labels = labels_df.set_index('img_index')['clean_label']\n",
    "true_labels.head()"
   ]
  },
  {
   "cell_type": "code",
   "execution_count": null,
   "id": "def62673-5a1f-440c-b7ab-ee2b88222b0c",
   "metadata": {},
   "outputs": [],
   "source": [
    "train_df = dm.train_df\n",
    "train_df['true_label'] = train_df.task.apply(lambda t: true_labels[t])\n",
    "train_df"
   ]
  },
  {
   "cell_type": "code",
   "execution_count": null,
   "id": "eab1b8c4-2b92-4af3-85cd-399e76d93d20",
   "metadata": {},
   "outputs": [],
   "source": [
    "from annotator_model.utils import (\n",
    "    compute_worker_metrics,\n",
    ")"
   ]
  },
  {
   "cell_type": "code",
   "execution_count": null,
   "id": "37f27313-139c-479b-ab26-57b0284b02fd",
   "metadata": {},
   "outputs": [],
   "source": [
    "true_skills = compute_worker_metrics(train_df, true_label_col='true_label')\n",
    "true_skills = skills.rename(columns={'accuracy': 'true_accuracy'})['true_accuracy'].sort_index()\n",
    "true_skills.head()"
   ]
  },
  {
   "cell_type": "code",
   "execution_count": null,
   "id": "6dbcddcb-2b1a-45dc-86a4-845d4166dd0e",
   "metadata": {},
   "outputs": [],
   "source": [
    "skills_history = [\n",
    "    pd.DataFrame({'skill': skills, 'worker_id': reverse_worker_map}).set_index('worker_id')['skill']\n",
    "    for skills in skills_history\n",
    "]"
   ]
  },
  {
   "cell_type": "code",
   "execution_count": 3,
   "id": "4a1b2f4e-4221-455e-8f03-7f991331a426",
   "metadata": {},
   "outputs": [
    {
     "ename": "NameError",
     "evalue": "name 'true_skills' is not defined",
     "output_type": "error",
     "traceback": [
      "\u001B[0;31m---------------------------------------------------------------------------\u001B[0m",
      "\u001B[0;31mNameError\u001B[0m                                 Traceback (most recent call last)",
      "\u001B[0;32m/var/folders/bt/g8bj53xj0tvbvs3wn8hkx2c5g9x1f4/T/ipykernel_7401/2099368868.py\u001B[0m in \u001B[0;36m<cell line: 14>\u001B[0;34m()\u001B[0m\n\u001B[1;32m     14\u001B[0m \u001B[0;32mfor\u001B[0m \u001B[0mi\u001B[0m\u001B[0;34m,\u001B[0m \u001B[0miteration\u001B[0m \u001B[0;32min\u001B[0m \u001B[0menumerate\u001B[0m\u001B[0;34m(\u001B[0m\u001B[0miterations\u001B[0m\u001B[0;34m)\u001B[0m\u001B[0;34m:\u001B[0m\u001B[0;34m\u001B[0m\u001B[0;34m\u001B[0m\u001B[0m\n\u001B[1;32m     15\u001B[0m     plot_df = pd.DataFrame({\n\u001B[0;32m---> 16\u001B[0;31m         \u001B[0;34m'true_skill'\u001B[0m\u001B[0;34m:\u001B[0m \u001B[0mtrue_skills\u001B[0m\u001B[0;34m,\u001B[0m\u001B[0;34m\u001B[0m\u001B[0;34m\u001B[0m\u001B[0m\n\u001B[0m\u001B[1;32m     17\u001B[0m         \u001B[0;34m'computed_skill'\u001B[0m\u001B[0;34m:\u001B[0m \u001B[0mskills_history\u001B[0m\u001B[0;34m[\u001B[0m\u001B[0miteration\u001B[0m\u001B[0;34m]\u001B[0m\u001B[0;34m,\u001B[0m\u001B[0;34m\u001B[0m\u001B[0;34m\u001B[0m\u001B[0m\n\u001B[1;32m     18\u001B[0m     })\n",
      "\u001B[0;31mNameError\u001B[0m: name 'true_skills' is not defined"
     ]
    }
   ],
   "source": [
    "import plotly.graph_objects as go\n",
    "from plotly.subplots import make_subplots\n",
    "\n",
    "iterations = [1, 49, 298, 0]\n",
    "iter_names = [None, None, None, 'ZBS skills']\n",
    "\n",
    "names = [f\"Iteration {i}\" if not name else name for i, name in zip(iterations, iter_names)]\n",
    "fig = make_subplots(rows=4, cols=1,\n",
    "                    subplot_titles=names,\n",
    "                   )\n",
    "\n",
    "fig.update_layout(height=1200, width=1000,\n",
    "                  title_text=\"Worker computed accuracies vs true accuracies\")\n",
    "for i, iteration in enumerate(iterations):\n",
    "    plot_df = pd.DataFrame({\n",
    "        'true_skill': true_skills,\n",
    "        'computed_skill': skills_history[iteration],\n",
    "    })\n",
    "    fig.add_trace(\n",
    "        go.Scatter(x=plot_df.computed_skill, y=plot_df.true_skill, mode='markers', name=names[i]),\n",
    "        row=i+1, \n",
    "        col=1,\n",
    "    )\n",
    "    fig.update_xaxes(title_text=\"Computed skill\", row=i+1, col=1, range=[0, 1])\n",
    "    fig.update_yaxes(title_text=\"True skill\", row=i+1, col=1, range=[0.5, 1])\n",
    "\n",
    "\n",
    "fig.show()"
   ]
  },
  {
   "cell_type": "code",
   "execution_count": null,
   "id": "7b3911f9-1931-4c12-b921-9809e923b4db",
   "metadata": {},
   "outputs": [],
   "source": []
  }
 ],
 "metadata": {
  "kernelspec": {
   "display_name": "Python 3 (ipykernel)",
   "language": "python",
   "name": "python3"
  },
  "language_info": {
   "codemirror_mode": {
    "name": "ipython",
    "version": 3
   },
   "file_extension": ".py",
   "mimetype": "text/x-python",
   "name": "python",
   "nbconvert_exporter": "python",
   "pygments_lexer": "ipython3",
   "version": "3.7.10"
  }
 },
 "nbformat": 4,
 "nbformat_minor": 5
}